{
  "nbformat": 4,
  "nbformat_minor": 0,
  "metadata": {
    "colab": {
      "provenance": []
    },
    "kernelspec": {
      "name": "python3",
      "display_name": "Python 3"
    },
    "language_info": {
      "name": "python"
    }
  },
  "cells": [
    {
      "cell_type": "markdown",
      "source": [
        "# Bayesian Regression Analysis of Brain Size and Body Mass\n",
        "## Introduction\n",
        "\n",
        "In this analysis, I explored the relationship between brain size and body mass in mammals using Bayesian regression. The dataset was taken from Kaggle and contains measurements of brain and body weights for various mammals.\n",
        "\n",
        "## Setting up  necessary R-libraries and clean dataset\n",
        "I used the R programming language in Google Colab and started by setting up the necessary libraries such as brms, bayesplot, and tidyverse. Then, I cleaned and prepared the data by applying a logarithmic transformation to normalize the brain size and body mass values.\n",
        "\n",
        "## Fiting Bayesian linear regression mode\n",
        "The main objective was to fit a Bayesian linear regression model and analyze the posterior distributions of the model parameters. The results were visualized using density plots to understand the uncertainty and credibility of the estimates."
      ],
      "metadata": {
        "id": "7oHuXaXwoCoY"
      }
    },
    {
      "cell_type": "code",
      "source": [],
      "metadata": {
        "id": "WWDWROsrM3Z_"
      },
      "execution_count": null,
      "outputs": []
    },
    {
      "cell_type": "code",
      "source": [],
      "metadata": {
        "id": "b7X8yCDgM3dK"
      },
      "execution_count": null,
      "outputs": []
    },
    {
      "cell_type": "markdown",
      "source": [
        "## Install R and Necessary Packages\n",
        "To begin, we need to install R and the necessary packages.\n",
        "## Purpose\n",
        "This will sets up the R environment by installing the base R system and recommended packages, ensuring we have a solid foundation for our analysis."
      ],
      "metadata": {
        "id": "c7tJmDqXbvSw"
      }
    },
    {
      "cell_type": "code",
      "metadata": {
        "colab": {
          "base_uri": "https://localhost:8080/"
        },
        "id": "d4ace2a0",
        "outputId": "f7f3ef61-531e-4bba-86bf-6658234112c8"
      },
      "source": [
        "# Install R packages for Bayesian analysis\n",
        "# Replace \"package_name\" with the actual package names you need\n",
        "%R install.packages(\"package_name\")"
      ],
      "execution_count": null,
      "outputs": [
        {
          "output_type": "stream",
          "name": "stderr",
          "text": [
            "UsageError: Line magic function `%R` not found.\n"
          ]
        }
      ]
    },
    {
      "cell_type": "markdown",
      "source": [
        "## Loading R Extension\n",
        "\n",
        "\n",
        "Purpose\n",
        "\n",
        "\n",
        "- Run R code in Jupyter Notebook cells\n",
        "- Use R packages and libraries\n",
        "- Seamlessly integrate R and Python code\n",
        "\n",
        "Benefits\n",
        "- Easy integration of R and Python\n",
        "- Enhanced data analysis capabilities\n",
        "- Flexibility in using R and Python tools and libraries"
      ],
      "metadata": {
        "id": "lhylciC5eovh"
      }
    },
    {
      "cell_type": "code",
      "metadata": {
        "id": "8f8f5011"
      },
      "source": [
        "%load_ext rpy2.ipython"
      ],
      "execution_count": null,
      "outputs": []
    },
    {
      "cell_type": "code",
      "source": [],
      "metadata": {
        "id": "DaIiTbTxfF3I"
      },
      "execution_count": null,
      "outputs": []
    },
    {
      "cell_type": "code",
      "source": [],
      "metadata": {
        "id": "F2SmX-ryfFam"
      },
      "execution_count": null,
      "outputs": []
    },
    {
      "cell_type": "markdown",
      "source": [
        "\n",
        "## Installing R and Necessary Packages\n",
        "\n",
        "What it Does\n",
        "1. !apt-get update -qq: Updates package index.\n",
        "2. !apt-get install -y r-base r-base-core r-recommended: Installs R and recommended packages.\n",
        "\n",
        "Purpose\n",
        "Sets up R environment for analysis by installing base R system and recommended packages."
      ],
      "metadata": {
        "id": "Nhy2LL0dfO7q"
      }
    },
    {
      "cell_type": "code",
      "metadata": {
        "colab": {
          "base_uri": "https://localhost:8080/"
        },
        "id": "20202907",
        "outputId": "20946fda-df1c-48ec-d155-e82fada702d4"
      },
      "source": [
        "# Install R and necessary packages\n",
        "!apt-get update -qq\n",
        "!apt-get install -y r-base r-base-core r-recommended"
      ],
      "execution_count": null,
      "outputs": [
        {
          "output_type": "stream",
          "name": "stdout",
          "text": [
            "W: Skipping acquire of configured file 'main/source/Sources' as repository 'https://r2u.stat.illinois.edu/ubuntu jammy InRelease' does not seem to provide it (sources.list entry misspelt?)\n",
            "Reading package lists... Done\n",
            "Building dependency tree... Done\n",
            "Reading state information... Done\n",
            "r-base-core is already the newest version (4.5.0-3.2204.0).\n",
            "r-base is already the newest version (4.5.0-3.2204.0).\n",
            "r-recommended is already the newest version (4.5.0-3.2204.0).\n",
            "0 upgraded, 0 newly installed, 0 to remove and 36 not upgraded.\n"
          ]
        }
      ]
    },
    {
      "cell_type": "code",
      "source": [],
      "metadata": {
        "id": "kD_8pFMASW6x"
      },
      "execution_count": null,
      "outputs": []
    },
    {
      "cell_type": "code",
      "source": [],
      "metadata": {
        "id": "I2DF-jaYUVvX"
      },
      "execution_count": null,
      "outputs": []
    },
    {
      "cell_type": "markdown",
      "source": [
        "\n",
        "\n",
        "## Installing brms Package in R\n",
        "\n",
        "\n",
        "Installs the brms package, a popular R package for Bayesian regression models using Stan.\n",
        "\n",
        "What it Does\n",
        "- Downloads and installs the brms package and its dependencies.\n",
        "- Enables Bayesian modeling capabilities in R.\n",
        "\n",
        "Usage\n",
        "After installation, load the package with library(brms) to start using it for Bayesian analysis."
      ],
      "metadata": {
        "id": "--KKDrBUfjjW"
      }
    },
    {
      "cell_type": "code",
      "metadata": {
        "colab": {
          "base_uri": "https://localhost:8080/",
          "height": 329
        },
        "id": "c71d660e",
        "outputId": "be1bcf48-5c8a-4d0b-e8be-decd11d298bf"
      },
      "source": [
        "%%R\n",
        "install.packages(\"brms\")"
      ],
      "execution_count": null,
      "outputs": [
        {
          "output_type": "display_data",
          "data": {
            "text/plain": [
              "Installing package into ‘/usr/local/lib/R/site-library’\n",
              "(as ‘lib’ is unspecified)\n",
              "also installing the dependencies ‘mvtnorm’, ‘Brobdingnag’, ‘globals’, ‘listenv’, ‘parallelly’, ‘rstan’, ‘bridgesampling’, ‘future’, ‘future.apply’, ‘nleqslv’\n",
              "\n",
              "trying URL 'https://cran.rstudio.com/src/contrib/mvtnorm_1.3-3.tar.gz'\n",
              "trying URL 'https://cran.rstudio.com/src/contrib/Brobdingnag_1.2-9.tar.gz'\n",
              "trying URL 'https://cran.rstudio.com/src/contrib/globals_0.18.0.tar.gz'\n",
              "trying URL 'https://cran.rstudio.com/src/contrib/listenv_0.9.1.tar.gz'\n",
              "trying URL 'https://cran.rstudio.com/src/contrib/parallelly_1.45.0.tar.gz'\n",
              "trying URL 'https://cran.rstudio.com/src/contrib/rstan_2.32.7.tar.gz'\n",
              "trying URL 'https://cran.rstudio.com/src/contrib/bridgesampling_1.1-2.tar.gz'\n",
              "trying URL 'https://cran.rstudio.com/src/contrib/future_1.58.0.tar.gz'\n",
              "trying URL 'https://cran.rstudio.com/src/contrib/future.apply_1.20.0.tar.gz'\n",
              "trying URL 'https://cran.rstudio.com/src/contrib/nleqslv_3.3.5.tar.gz'\n",
              "trying URL 'https://cran.rstudio.com/src/contrib/brms_2.22.0.tar.gz'\n",
              "\n",
              "The downloaded source packages are in\n",
              "\t‘/tmp/Rtmph9rsUh/downloaded_packages’\n"
            ]
          },
          "metadata": {}
        }
      ]
    },
    {
      "cell_type": "code",
      "source": [],
      "metadata": {
        "id": "1sI3Jq0fVWTI"
      },
      "execution_count": null,
      "outputs": []
    },
    {
      "cell_type": "markdown",
      "source": [
        "### Step 1: Data Cleaning and Preparation\n",
        "\n",
        "We will clean the dataset to prepare it for Bayesian modeling:\n",
        "- Convert `original.brain.size` and `body.mass` to numeric.\n",
        "- Remove any rows with missing values for these columns.\n",
        "- Apply log-transformation to reduce skewness and make model assumptions more valid.\n"
      ],
      "metadata": {
        "id": "-803Z5FMZ5Za"
      }
    },
    {
      "cell_type": "code",
      "source": [
        "%%R\n",
        "library(tidyverse)\n",
        "\n",
        "# Clean and filter the data\n",
        "clean_data <- animal_data %>%\n",
        "  mutate(\n",
        "    brain_size = as.numeric(original.brain.size),\n",
        "    body_mass = as.numeric(body.mass)\n",
        "  ) %>%\n",
        "  filter(!is.na(brain_size), !is.na(body_mass)) %>%\n",
        "  mutate(\n",
        "    log_brain_size = log(brain_size),\n",
        "    log_body_mass = log(body_mass)\n",
        "  )\n",
        "\n",
        "# Show summary\n",
        "summary(clean_data[, c(\"brain_size\", \"body_mass\", \"log_brain_size\", \"log_body_mass\")])"
      ],
      "metadata": {
        "colab": {
          "base_uri": "https://localhost:8080/"
        },
        "id": "2GQ0Z6cjYQmt",
        "outputId": "e60baa87-2156-4bb4-9ad8-bd48342d62df"
      },
      "execution_count": null,
      "outputs": [
        {
          "output_type": "stream",
          "name": "stdout",
          "text": [
            "   brain_size          body_mass       log_brain_size      log_body_mass     \n",
            " Min.   :0.000e+00   Min.   :  0.000   Min.   :-8.542511   Min.   :-16.9391  \n",
            " 1st Qu.:1.000e+00   1st Qu.:  0.021   1st Qu.:-0.005025   1st Qu.: -3.8632  \n",
            " Median :3.790e+00   Median :  0.197   Median : 1.332366   Median : -1.6246  \n",
            " Mean   :1.357e+04   Mean   :  6.597   Mean   : 1.647262   Mean   : -2.2295  \n",
            " 3rd Qu.:1.842e+01   3rd Qu.:  1.601   3rd Qu.: 2.913428   3rd Qu.:  0.4703  \n",
            " Max.   :2.758e+06   Max.   :759.000   Max.   :14.830037   Max.   :  6.6320  \n"
          ]
        }
      ]
    },
    {
      "cell_type": "code",
      "source": [
        "%%R\n",
        "animal_data <- read.csv(\"/content/drive/MyDrive/Animal_Traits.csv\")\n",
        "# Display the first few rows of the data\n",
        "print(head(animal_data))"
      ],
      "metadata": {
        "colab": {
          "base_uri": "https://localhost:8080/"
        },
        "id": "ab7mLmR9Xwhz",
        "outputId": "0f2aef60-2d29-40d8-b727-e8d54a06fc15"
      },
      "execution_count": null,
      "outputs": [
        {
          "output_type": "stream",
          "name": "stdout",
          "text": [
            "    phylum    class order            family       genus               species\n",
            "1 Chordata Amphibia Anura           Hylidae        Hyla       Hyla versicolor\n",
            "2 Chordata Amphibia Anura           Hylidae  Pseudacris Pseudacris triseriata\n",
            "3 Chordata Amphibia Anura           Hylidae       Acris       Acris crepitans\n",
            "4 Chordata Amphibia Anura Ceratobatrachidae Platymantis Platymantis vitiensis\n",
            "5 Chordata Amphibia Anura           Ranidae        Rana        Rana sylvatica\n",
            "6 Chordata Amphibia Anura           Ranidae        Rana          Rana pipiens\n",
            "  specificEpithet sex sampleSizeValue            inTextReference\n",
            "1      versicolor                   1 Taylor, Nol, & Boire, 1995\n",
            "2      triseriata                   3 Taylor, Nol, & Boire, 1995\n",
            "3       crepitans                   3 Taylor, Nol, & Boire, 1995\n",
            "4       vitiensis                   1 Taylor, Nol, & Boire, 1995\n",
            "5       sylvatica                   3 Taylor, Nol, & Boire, 1995\n",
            "6         pipiens                   3 Taylor, Nol, & Boire, 1995\n",
            "  publicationYear\n",
            "1            1995\n",
            "2            1995\n",
            "3            1995\n",
            "4            1995\n",
            "5            1995\n",
            "6            1995\n",
            "                                                                                                                                                                           fullReference\n",
            "1 Taylor, G. M., Nol, E., & Boire, D. (1995). Brain regions and encephalization in anurans: adaptation or stability? Brain, behavior and evolution, 45(2), 96-109. doi:10.1159/000113543\n",
            "2 Taylor, G. M., Nol, E., & Boire, D. (1995). Brain regions and encephalization in anurans: adaptation or stability? Brain, behavior and evolution, 45(2), 96-109. doi:10.1159/000113543\n",
            "3 Taylor, G. M., Nol, E., & Boire, D. (1995). Brain regions and encephalization in anurans: adaptation or stability? Brain, behavior and evolution, 45(2), 96-109. doi:10.1159/000113543\n",
            "4 Taylor, G. M., Nol, E., & Boire, D. (1995). Brain regions and encephalization in anurans: adaptation or stability? Brain, behavior and evolution, 45(2), 96-109. doi:10.1159/000113543\n",
            "5 Taylor, G. M., Nol, E., & Boire, D. (1995). Brain regions and encephalization in anurans: adaptation or stability? Brain, behavior and evolution, 45(2), 96-109. doi:10.1159/000113543\n",
            "6 Taylor, G. M., Nol, E., & Boire, D. (1995). Brain regions and encephalization in anurans: adaptation or stability? Brain, behavior and evolution, 45(2), 96-109. doi:10.1159/000113543\n",
            "  body.mass body.mass...units body.mass...minimum body.mass...maximum\n",
            "1   0.01315                kg                  NA                  NA\n",
            "2   0.00010                kg                  NA                  NA\n",
            "3   0.00030                kg                  NA                  NA\n",
            "4   0.00030                kg                  NA                  NA\n",
            "5   0.00037                kg                  NA                  NA\n",
            "6   0.00110                kg                  NA                  NA\n",
            "  body.mass...method body.mass...comments body.mass...metadata.comment\n",
            "1                                                                   NA\n",
            "2                                                                   NA\n",
            "3                                                                   NA\n",
            "4                                                                   NA\n",
            "5                                                                   NA\n",
            "6                                                                   NA\n",
            "  original.body.mass original.body.mass...units metabolic.rate\n",
            "1              13.15                          g             NA\n",
            "2                0.1                          g             NA\n",
            "3                0.3                          g             NA\n",
            "4                0.3                          g             NA\n",
            "5               0.37                          g             NA\n",
            "6                1.1                          g             NA\n",
            "  metabolic.rate...units metabolic.rate...minimum metabolic.rate...maximum\n",
            "1                                              NA                       NA\n",
            "2                                              NA                       NA\n",
            "3                                              NA                       NA\n",
            "4                                              NA                       NA\n",
            "5                                              NA                       NA\n",
            "6                                              NA                       NA\n",
            "  metabolic.rate...method metabolic.rate...comments\n",
            "1                                                  \n",
            "2                                                  \n",
            "3                                                  \n",
            "4                                                  \n",
            "5                                                  \n",
            "6                                                  \n",
            "  metabolic.rate...metadata.comment original.metabolic.rate\n",
            "1                                                        NA\n",
            "2                                                        NA\n",
            "3                                                        NA\n",
            "4                                                        NA\n",
            "5                                                        NA\n",
            "6                                                        NA\n",
            "  original.metabolic.rate...units original.respiratoryQuotient\n",
            "1                                                           NA\n",
            "2                                                           NA\n",
            "3                                                           NA\n",
            "4                                                           NA\n",
            "5                                                           NA\n",
            "6                                                           NA\n",
            "  original.temperature mass.specific.metabolic.rate\n",
            "1                                                NA\n",
            "2                                                NA\n",
            "3                                                NA\n",
            "4                                                NA\n",
            "5                                                NA\n",
            "6                                                NA\n",
            "  mass.specific.metabolic.rate...units   brain.size brain.size...units\n",
            "1                                      4.225844e-05                 kg\n",
            "2                                      2.258480e-06                 kg\n",
            "3                                      4.434080e-06                 kg\n",
            "4                                      4.931360e-06                 kg\n",
            "5                                      8.567720e-06                 kg\n",
            "6                                      2.035740e-05                 kg\n",
            "  brain.size...minimum brain.size...maximum         brain.size...method\n",
            "1                   NA                   NA histological reconstruction\n",
            "2                   NA                   NA histological reconstruction\n",
            "3                   NA                   NA histological reconstruction\n",
            "4                   NA                   NA histological reconstruction\n",
            "5                   NA                   NA histological reconstruction\n",
            "6                   NA                   NA histological reconstruction\n",
            "  brain.size...comments\n",
            "1   total brain volume \n",
            "2                      \n",
            "3                      \n",
            "4                      \n",
            "5                      \n",
            "6                      \n",
            "                                                                                         brain.size...metadata.comment\n",
            "1 photographs of cross sections were taken and volume measured using scientific digitizing tablet; brains were weighed\n",
            "2 photographs of cross sections were taken and volume measured using scientific digitizing tablet; brains were weighed\n",
            "3 photographs of cross sections were taken and volume measured using scientific digitizing tablet; brains were weighed\n",
            "4 photographs of cross sections were taken and volume measured using scientific digitizing tablet; brains were weighed\n",
            "5 photographs of cross sections were taken and volume measured using scientific digitizing tablet; brains were weighed\n",
            "6 photographs of cross sections were taken and volume measured using scientific digitizing tablet; brains were weighed\n",
            "  original.brain.size original.brain.size...units\n",
            "1               40.79                         mm3\n",
            "2                2.18                         mm3\n",
            "3                4.28                         mm3\n",
            "4                4.76                         mm3\n",
            "5                8.27                         mm3\n",
            "6               19.65                         mm3\n"
          ]
        }
      ]
    },
    {
      "cell_type": "code",
      "source": [],
      "metadata": {
        "id": "ySXZpak6Zvmy"
      },
      "execution_count": null,
      "outputs": []
    },
    {
      "cell_type": "markdown",
      "source": [
        "### Step 2: Visualizing the Relationship Between Body Mass and Brain Size\n",
        "\n",
        "Before fitting a Bayesian model, let's visualize the relationship between body mass and brain size using a scatter plot on the log scale.\n"
      ],
      "metadata": {
        "id": "iARBWbwiaEhh"
      }
    },
    {
      "cell_type": "code",
      "source": [
        "%%R\n",
        "# Plot log(body mass) vs. log(brain size)\n",
        "ggplot(clean_data, aes(x = log_body_mass, y = log_brain_size)) +\n",
        "  geom_point(color = \"steelblue\", size = 3) +\n",
        "  geom_smooth(method = \"lm\", se = FALSE, color = \"darkred\") +\n",
        "  labs(title = \"Log(Brain Size) vs Log(Body Mass)\", x = \"Log Body Mass\", y = \"Log Brain Size\") +\n",
        "  theme_minimal()"
      ],
      "metadata": {
        "colab": {
          "base_uri": "https://localhost:8080/",
          "height": 514
        },
        "id": "kwVYUS-LaFKl",
        "outputId": "f24fe388-afd6-40d3-9930-3acb2cab3154"
      },
      "execution_count": null,
      "outputs": [
        {
          "output_type": "stream",
          "name": "stdout",
          "text": [
            "`geom_smooth()` using formula = 'y ~ x'\n"
          ]
        },
        {
          "output_type": "display_data",
          "data": {
            "image/png": "[encoded data removed]",
            "text/plain": [
              "<IPython.core.display.Image object>"
            ]
          },
          "metadata": {}
        }
      ]
    },
    {
      "cell_type": "markdown",
      "source": [
        "## 🔍 Log(Brain Size) vs Log(Body Mass)\n",
        "\n",
        "- A positive linear trend is observed between log-transformed brain size and body mass.\n",
        "- The regression line (y ~ x) shows *brain size increases with body mass, but **less than proportionally*.\n",
        "- This indicates *allometric scaling*: larger animals have larger brains, but not in direct proportion.\n",
        "- Points above the line = species with *larger brains* than expected (e.g., primates).\n",
        "- Points below the line = species with *smaller brains* than expected (e.g., reptiles).\n",
        "- The log-log transformation reveals a power-law relationship, common in biological traits."
      ],
      "metadata": {
        "id": "SA0MX4MGkCjl"
      }
    },
    {
      "cell_type": "code",
      "source": [],
      "metadata": {
        "id": "pXu9iveLkBUl"
      },
      "execution_count": null,
      "outputs": []
    },
    {
      "cell_type": "code",
      "source": [],
      "metadata": {
        "id": "dN62uaLAkBH0"
      },
      "execution_count": null,
      "outputs": []
    },
    {
      "cell_type": "code",
      "source": [],
      "metadata": {
        "id": "-hU17NKckA53"
      },
      "execution_count": null,
      "outputs": []
    },
    {
      "cell_type": "markdown",
      "source": [
        "### Step 3: Fit a Bayesian Linear Model\n",
        "\n",
        "We now fit a Bayesian linear regression model using the `brms` package, with:\n",
        "- `log_brain_size` as the response variable\n",
        "- `log_body_mass` as the predictor\n",
        "\n",
        "This will allow us to estimate the posterior distribution of the relationship, not just a point estimate.\n"
      ],
      "metadata": {
        "id": "XDGqoUFHaR0J"
      }
    },
    {
      "cell_type": "markdown",
      "source": [
        "### Step 4: Model Summary\n",
        "\n",
        "We examine the posterior estimates of the intercept and slope, and also the R-hat values to assess convergence.\n"
      ],
      "metadata": {
        "id": "YBb_LTLvbC-V"
      }
    },
    {
      "cell_type": "code",
      "source": [
        "%%R\n",
        "# Load brms package\n",
        "library(brms)\n",
        "\n",
        "# Fit Bayesian linear model\n",
        "bayes_model <- brm(\n",
        "  formula = log_brain_size ~ log_body_mass,\n",
        "  data = clean_data,\n",
        "  family = gaussian(),\n",
        "  chains = 4,\n",
        "  iter = 2000,\n",
        "  warmup = 1000,\n",
        "  seed = 123\n",
        ")"
      ],
      "metadata": {
        "colab": {
          "base_uri": "https://localhost:8080/",
          "height": 1000
        },
        "id": "0eqYs5D6aSbH",
        "outputId": "775e5370-3435-48c8-8dfe-058ccebc305a"
      },
      "execution_count": null,
      "outputs": [
        {
          "output_type": "stream",
          "name": "stdout",
          "text": [
            "\n",
            "SAMPLING FOR MODEL 'anon_model' NOW (CHAIN 1).\n",
            "Chain 1: \n",
            "Chain 1: Gradient evaluation took 4.9e-05 seconds\n",
            "Chain 1: 1000 transitions using 10 leapfrog steps per transition would take 0.49 seconds.\n",
            "Chain 1: Adjust your expectations accordingly!\n",
            "Chain 1: \n",
            "Chain 1: \n",
            "Chain 1: Iteration:    1 / 2000 [  0%]  (Warmup)\n",
            "Chain 1: Iteration:  200 / 2000 [ 10%]  (Warmup)\n",
            "Chain 1: Iteration:  400 / 2000 [ 20%]  (Warmup)\n",
            "Chain 1: Iteration:  600 / 2000 [ 30%]  (Warmup)\n",
            "Chain 1: Iteration:  800 / 2000 [ 40%]  (Warmup)\n",
            "Chain 1: Iteration: 1000 / 2000 [ 50%]  (Warmup)\n",
            "Chain 1: Iteration: 1001 / 2000 [ 50%]  (Sampling)\n",
            "Chain 1: Iteration: 1200 / 2000 [ 60%]  (Sampling)\n",
            "Chain 1: Iteration: 1400 / 2000 [ 70%]  (Sampling)\n",
            "Chain 1: Iteration: 1600 / 2000 [ 80%]  (Sampling)\n",
            "Chain 1: Iteration: 1800 / 2000 [ 90%]  (Sampling)\n",
            "Chain 1: Iteration: 2000 / 2000 [100%]  (Sampling)\n",
            "Chain 1: \n",
            "Chain 1:  Elapsed Time: 0.102 seconds (Warm-up)\n",
            "Chain 1:                0.134 seconds (Sampling)\n",
            "Chain 1:                0.236 seconds (Total)\n",
            "Chain 1: \n",
            "\n",
            "SAMPLING FOR MODEL 'anon_model' NOW (CHAIN 2).\n",
            "Chain 2: \n",
            "Chain 2: Gradient evaluation took 3.4e-05 seconds\n",
            "Chain 2: 1000 transitions using 10 leapfrog steps per transition would take 0.34 seconds.\n",
            "Chain 2: Adjust your expectations accordingly!\n",
            "Chain 2: \n",
            "Chain 2: \n",
            "Chain 2: Iteration:    1 / 2000 [  0%]  (Warmup)\n",
            "Chain 2: Iteration:  200 / 2000 [ 10%]  (Warmup)\n",
            "Chain 2: Iteration:  400 / 2000 [ 20%]  (Warmup)\n",
            "Chain 2: Iteration:  600 / 2000 [ 30%]  (Warmup)\n",
            "Chain 2: Iteration:  800 / 2000 [ 40%]  (Warmup)\n",
            "Chain 2: Iteration: 1000 / 2000 [ 50%]  (Warmup)\n",
            "Chain 2: Iteration: 1001 / 2000 [ 50%]  (Sampling)\n",
            "Chain 2: Iteration: 1200 / 2000 [ 60%]  (Sampling)\n",
            "Chain 2: Iteration: 1400 / 2000 [ 70%]  (Sampling)\n",
            "Chain 2: Iteration: 1600 / 2000 [ 80%]  (Sampling)\n",
            "Chain 2: Iteration: 1800 / 2000 [ 90%]  (Sampling)\n",
            "Chain 2: Iteration: 2000 / 2000 [100%]  (Sampling)\n",
            "Chain 2: \n",
            "Chain 2:  Elapsed Time: 0.12 seconds (Warm-up)\n",
            "Chain 2:                0.094 seconds (Sampling)\n",
            "Chain 2:                0.214 seconds (Total)\n",
            "Chain 2: \n",
            "\n",
            "SAMPLING FOR MODEL 'anon_model' NOW (CHAIN 3).\n",
            "Chain 3: \n",
            "Chain 3: Gradient evaluation took 3.5e-05 seconds\n",
            "Chain 3: 1000 transitions using 10 leapfrog steps per transition would take 0.35 seconds.\n",
            "Chain 3: Adjust your expectations accordingly!\n",
            "Chain 3: \n",
            "Chain 3: \n",
            "Chain 3: Iteration:    1 / 2000 [  0%]  (Warmup)\n",
            "Chain 3: Iteration:  200 / 2000 [ 10%]  (Warmup)\n",
            "Chain 3: Iteration:  400 / 2000 [ 20%]  (Warmup)\n",
            "Chain 3: Iteration:  600 / 2000 [ 30%]  (Warmup)\n",
            "Chain 3: Iteration:  800 / 2000 [ 40%]  (Warmup)\n",
            "Chain 3: Iteration: 1000 / 2000 [ 50%]  (Warmup)\n",
            "Chain 3: Iteration: 1001 / 2000 [ 50%]  (Sampling)\n",
            "Chain 3: Iteration: 1200 / 2000 [ 60%]  (Sampling)\n",
            "Chain 3: Iteration: 1400 / 2000 [ 70%]  (Sampling)\n",
            "Chain 3: Iteration: 1600 / 2000 [ 80%]  (Sampling)\n",
            "Chain 3: Iteration: 1800 / 2000 [ 90%]  (Sampling)\n",
            "Chain 3: Iteration: 2000 / 2000 [100%]  (Sampling)\n",
            "Chain 3: \n",
            "Chain 3:  Elapsed Time: 0.124 seconds (Warm-up)\n",
            "Chain 3:                0.095 seconds (Sampling)\n",
            "Chain 3:                0.219 seconds (Total)\n",
            "Chain 3: \n",
            "\n",
            "SAMPLING FOR MODEL 'anon_model' NOW (CHAIN 4).\n",
            "Chain 4: \n",
            "Chain 4: Gradient evaluation took 3.5e-05 seconds\n",
            "Chain 4: 1000 transitions using 10 leapfrog steps per transition would take 0.35 seconds.\n",
            "Chain 4: Adjust your expectations accordingly!\n",
            "Chain 4: \n",
            "Chain 4: \n",
            "Chain 4: Iteration:    1 / 2000 [  0%]  (Warmup)\n",
            "Chain 4: Iteration:  200 / 2000 [ 10%]  (Warmup)\n",
            "Chain 4: Iteration:  400 / 2000 [ 20%]  (Warmup)\n",
            "Chain 4: Iteration:  600 / 2000 [ 30%]  (Warmup)\n",
            "Chain 4: Iteration:  800 / 2000 [ 40%]  (Warmup)\n",
            "Chain 4: Iteration: 1000 / 2000 [ 50%]  (Warmup)\n",
            "Chain 4: Iteration: 1001 / 2000 [ 50%]  (Sampling)\n",
            "Chain 4: Iteration: 1200 / 2000 [ 60%]  (Sampling)\n",
            "Chain 4: Iteration: 1400 / 2000 [ 70%]  (Sampling)\n",
            "Chain 4: Iteration: 1600 / 2000 [ 80%]  (Sampling)\n",
            "Chain 4: Iteration: 1800 / 2000 [ 90%]  (Sampling)\n",
            "Chain 4: Iteration: 2000 / 2000 [100%]  (Sampling)\n",
            "Chain 4: \n",
            "Chain 4:  Elapsed Time: 0.117 seconds (Warm-up)\n",
            "Chain 4:                0.105 seconds (Sampling)\n",
            "Chain 4:                0.222 seconds (Total)\n",
            "Chain 4: \n"
          ]
        },
        {
          "output_type": "display_data",
          "data": {
            "text/plain": [
              "Loading required package: Rcpp\n",
              "Loading 'brms' package (version 2.22.0). Useful instructions\n",
              "can be found by typing help('brms'). A more detailed introduction\n",
              "to the package is available through vignette('brms_overview').\n",
              "\n",
              "Attaching package: ‘brms’\n",
              "\n",
              "The following object is masked from ‘package:stats’:\n",
              "\n",
              "    ar\n",
              "\n",
              "Compiling Stan program...\n",
              "Start sampling\n"
            ]
          },
          "metadata": {}
        }
      ]
    },
    {
      "cell_type": "markdown",
      "source": [
        "## 🧠 Bayesian Linear Model: Log(Brain Size) ~ Log(Body Mass)\n",
        "\n",
        "- The Bayesian model was successfully compiled and sampled using the *Stan backend* (via the brms package).\n",
        "- *4 chains* were run with *2000 iterations each* (1000 warm-up + 1000 sampling per chain).\n",
        "- Each chain completed quickly (≈0.2s total), indicating an efficient model and small data size.\n",
        "- The model uses *Hamiltonian Monte Carlo (HMC)* with *No-U-Turn Sampler (NUTS)* for gradient-based sampling.\n",
        "- No divergences or sampling warnings were reported — sampling appears to have *converged successfully*.\n",
        "\n",
        "✅ Ready for posterior analysis (e.g., coefficients, credible intervals, R-hat, posterior predictive checks)."
      ],
      "metadata": {
        "id": "PisgZ33Ck512"
      }
    },
    {
      "cell_type": "code",
      "source": [
        "%%R\n",
        "summary(bayes_model)"
      ],
      "metadata": {
        "colab": {
          "base_uri": "https://localhost:8080/"
        },
        "id": "Mhp05z4raV8Z",
        "outputId": "08529c8f-9fe7-4752-9b0b-f67386c72fa7"
      },
      "execution_count": null,
      "outputs": [
        {
          "output_type": "stream",
          "name": "stdout",
          "text": [
            " Family: gaussian \n",
            "  Links: mu = identity; sigma = identity \n",
            "Formula: log_brain_size ~ log_body_mass \n",
            "   Data: clean_data (Number of observations: 1639) \n",
            "  Draws: 4 chains, each with iter = 2000; warmup = 1000; thin = 1;\n",
            "         total post-warmup draws = 4000\n",
            "\n",
            "Regression Coefficients:\n",
            "              Estimate Est.Error l-95% CI u-95% CI Rhat Bulk_ESS Tail_ESS\n",
            "Intercept         2.48      0.06     2.37     2.59 1.00     4270     3036\n",
            "log_body_mass     0.37      0.01     0.35     0.40 1.00     4497     3301\n",
            "\n",
            "Further Distributional Parameters:\n",
            "      Estimate Est.Error l-95% CI u-95% CI Rhat Bulk_ESS Tail_ESS\n",
            "sigma     2.05      0.04     1.98     2.12 1.00     4593     3326\n",
            "\n",
            "Draws were sampled using sampling(NUTS). For each parameter, Bulk_ESS\n",
            "and Tail_ESS are effective sample size measures, and Rhat is the potential\n",
            "scale reduction factor on split chains (at convergence, Rhat = 1).\n"
          ]
        }
      ]
    },
    {
      "cell_type": "markdown",
      "source": [
        "## 📊 Summary of Bayesian Linear Model: log_brain_size ~ log_body_mass\n",
        "\n",
        "*Model Details:*\n",
        "- *Family*: Gaussian  \n",
        "- *Link Function*: Identity  \n",
        "- *Data Points*: 1639  \n",
        "- *Sampling*: 4 chains × 2000 iterations (1000 warm-up), 4000 post-warmup draws  \n",
        "- *Sampler*: NUTS (No-U-Turn Sampler)\n",
        "\n",
        "---\n",
        "\n",
        "### 🧮 Regression Coefficients\n",
        "\n",
        "| Parameter       | Estimate | Std. Error | 95% CI (Lower) | 95% CI (Upper) | R̂    | Bulk ESS | Tail ESS |\n",
        "|----------------|----------|------------|----------------|----------------|-------|----------|----------|\n",
        "| *Intercept*   | 2.48     | 0.06       | 2.37           | 2.59           | 1.00  | 4270     | 3036     |\n",
        "| *log_body_mass* | 0.37     | 0.01       | 0.35           | 0.40           | 1.00  | 4497     | 3301     |\n",
        "\n",
        "- 📌 *Interpretation*:\n",
        "  - A 1-unit increase in log body mass is associated with a *0.37 unit increase* in log brain size.\n",
        "  - All parameters have *R̂ ≈ 1.00, indicating excellent **convergence*.\n",
        "  - High *Effective Sample Sizes (ESS)* suggest *stable posterior estimates*.\n",
        "\n",
        "---\n",
        "\n",
        "### 🔧 Residual Standard Deviation (σ)\n",
        "\n",
        "| Parameter | Estimate | Std. Error | 95% CI (Lower) | 95% CI (Upper) | R̂    | Bulk ESS | Tail ESS |\n",
        "|-----------|----------|------------|----------------|----------------|-------|----------|----------|\n",
        "| *σ*     | 2.05     | 0.04       | 1.98           | 2.12           | 1.00  | 4593     | 3326     |\n",
        "\n",
        "- This indicates *moderate residual variation* around the regression line.\n",
        "\n",
        "---\n",
        "\n",
        "✅ The model is well-calibrated, shows strong signal between body mass and brain size, and is ready for posterior checks or predictive inference."
      ],
      "metadata": {
        "id": "1ys_J5GMlNnm"
      }
    },
    {
      "cell_type": "code",
      "source": [],
      "metadata": {
        "id": "tuf5COr5bEus"
      },
      "execution_count": null,
      "outputs": []
    },
    {
      "cell_type": "markdown",
      "source": [
        "### Step 5: Posterior Visualization\n",
        "\n",
        "Using `bayesplot`, we visualize the posterior distributions of the slope and intercept to understand the uncertainty in our model estimates."
      ],
      "metadata": {
        "id": "emmyRzcDbQZ5"
      }
    },
    {
      "cell_type": "code",
      "source": [
        "%%R\n",
        "library(bayesplot)\n",
        "posterior_samples <- as.array(bayes_model)\n",
        "mcmc_areas(posterior_samples, pars = c(\"b_Intercept\", \"b_log_body_mass\"))"
      ],
      "metadata": {
        "colab": {
          "base_uri": "https://localhost:8080/",
          "height": 705
        },
        "id": "LqtHp7lNbFlT",
        "outputId": "17815fde-cb17-4378-c2bd-b76e8a3d2777"
      },
      "execution_count": null,
      "outputs": [
        {
          "output_type": "display_data",
          "data": {
            "text/plain": [
              "This is bayesplot version 1.12.0\n",
              "- Online documentation and vignettes at mc-stan.org/bayesplot\n",
              "- bayesplot theme set to bayesplot::theme_default()\n",
              "   * Does _not_ affect other ggplot2 plots\n",
              "   * See ?bayesplot_theme_set for details on theme setting\n",
              "\n",
              "Attaching package: ‘bayesplot’\n",
              "\n",
              "The following object is masked from ‘package:brms’:\n",
              "\n",
              "    rhat\n",
              "\n"
            ]
          },
          "metadata": {}
        },
        {
          "output_type": "display_data",
          "data": {
            "image/png": "[encoded data removed]",
            "text/plain": [
              "<IPython.core.display.Image object>"
            ]
          },
          "metadata": {}
        }
      ]
    },
    {
      "cell_type": "code",
      "source": [],
      "metadata": {
        "id": "72tsvXVkbFP9"
      },
      "execution_count": null,
      "outputs": []
    },
    {
      "cell_type": "markdown",
      "source": [
        "\n",
        "\n",
        "\n",
        "##  Interpretation\n",
        "\n",
        "This violin-density plot visualizes the *posterior distributions* of regression coefficients:\n",
        "\n",
        "- The *density height* indicates the probability of a coefficient taking certain values.\n",
        "- The *spread* represents the uncertainty in the estimate.\n",
        "- The **narrowness of b_log_body_mass** reflects *high precision* in its estimate."
      ],
      "metadata": {
        "id": "uB8vGWCzmkrT"
      }
    },
    {
      "cell_type": "code",
      "source": [],
      "metadata": {
        "id": "sTiOzXavmlcU"
      },
      "execution_count": null,
      "outputs": []
    },
    {
      "cell_type": "markdown",
      "source": [
        "## Conclusion\n",
        "\n",
        "This analysis demonstrated a strong positive relationship between body mass and brain size in mammals using a Bayesian linear regression model. The posterior estimates showed a consistent and credible trend, indicating that as body mass increases, brain size also tends to increase.\n",
        "\n",
        "Bayesian modeling provided robust parameter estimates along with uncertainty intervals, offering a deeper insight compared to classical regression methods. The visualizations further supported the model’s reliability and fit.\n",
        "\n",
        "## Future Work\n",
        "\n",
        "- Explore non-linear relationships or hierarchical models to capture species-specific patterns.\n",
        "- Include additional biological traits (e.g., lifespan, habitat) to improve the explanatory power of the model.\n",
        "- Perform model comparison using different priors or alternative Bayesian models.\n",
        "- Extend the analysis to other animal classes (e.g., birds, reptiles) for broader generalization.\n",
        "- Investigate residuals and perform model diagnostics for further validation.\n",
        "\n",
        "This analysis lays the groundwork for more advanced biological modeling using Bayesian approaches in R."
      ],
      "metadata": {
        "id": "2LF47ofYpvsH"
      }
    },
    {
      "cell_type": "code",
      "source": [],
      "metadata": {
        "id": "OGdQR50qpwT2"
      },
      "execution_count": null,
      "outputs": []
    }
  ]
}